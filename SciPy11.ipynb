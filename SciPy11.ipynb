{
 "cells": [
  {
   "cell_type": "code",
   "execution_count": 6,
   "metadata": {},
   "outputs": [
    {
     "name": "stdout",
     "output_type": "stream",
     "text": [
      "matrix\n",
      " [[0.33156499 0.52821652 0.02292824 0.85420596 0.24514862]\n",
      " [0.94454751 0.30617645 0.72998839 0.07635841 0.06498465]\n",
      " [0.14903656 0.13705737 0.44044006 0.3505205  0.72123067]\n",
      " [0.55846918 0.36647321 0.32426582 0.83556492 0.82112176]\n",
      " [0.22372274 0.02871222 0.72077756 0.78136245 0.00483464]]\n",
      "normal matrix\n",
      " [[-0.30559927  0.35376358 -1.34044301  1.44679005 -0.59534906]\n",
      " [ 1.74970079 -0.39072579  1.03029469 -1.16129427 -1.19942994]\n",
      " [-0.91760803 -0.95777368  0.05945346 -0.24204237  1.00093048]\n",
      " [ 0.45519925 -0.18855374 -0.33007303  1.38428754  1.33586034]\n",
      " [-0.66718898 -1.3210496   0.9994112   1.20254933 -1.40110995]]\n"
     ]
    }
   ],
   "source": [
    "import numpy as np\n",
    "N = np.random.random((5,5))\n",
    "print('matrix\\n',N)\n",
    "N = (N - np.mean (N)) / (np.std (N))\n",
    "print('normal matrix\\n',N)"
   ]
  },
  {
   "cell_type": "code",
   "execution_count": null,
   "metadata": {},
   "outputs": [],
   "source": []
  },
  {
   "cell_type": "code",
   "execution_count": null,
   "metadata": {},
   "outputs": [],
   "source": []
  },
  {
   "cell_type": "code",
   "execution_count": null,
   "metadata": {},
   "outputs": [],
   "source": []
  }
 ],
 "metadata": {
  "kernelspec": {
   "display_name": "Python 3",
   "language": "python",
   "name": "python3"
  },
  "language_info": {
   "codemirror_mode": {
    "name": "ipython",
    "version": 3
   },
   "file_extension": ".py",
   "mimetype": "text/x-python",
   "name": "python",
   "nbconvert_exporter": "python",
   "pygments_lexer": "ipython3",
   "version": "3.7.4"
  }
 },
 "nbformat": 4,
 "nbformat_minor": 2
}
