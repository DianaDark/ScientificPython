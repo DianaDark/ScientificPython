{
 "cells": [
  {
   "cell_type": "code",
   "execution_count": 1,
   "metadata": {},
   "outputs": [
    {
     "name": "stdout",
     "output_type": "stream",
     "text": [
      "[[[0.82115358 0.66914132 0.89990751]\n",
      "  [0.92420511 0.21130661 0.92661704]\n",
      "  [0.68213223 0.10644139 0.2337088 ]]\n",
      "\n",
      " [[0.27369664 0.39102687 0.37410105]\n",
      "  [0.5680039  0.4919804  0.82380736]\n",
      "  [0.06084625 0.78092576 0.44603815]]\n",
      "\n",
      " [[0.45067715 0.1048156  0.26980784]\n",
      "  [0.43085051 0.11573517 0.45868994]\n",
      "  [0.24687364 0.06068464 0.23842608]]]\n"
     ]
    }
   ],
   "source": [
    "import numpy as np\n",
    "arr=np.random.random((3,3,3,))\n",
    "print(arr)"
   ]
  },
  {
   "cell_type": "code",
   "execution_count": null,
   "metadata": {},
   "outputs": [],
   "source": []
  }
 ],
 "metadata": {
  "kernelspec": {
   "display_name": "Python 3",
   "language": "python",
   "name": "python3"
  },
  "language_info": {
   "codemirror_mode": {
    "name": "ipython",
    "version": 3
   },
   "file_extension": ".py",
   "mimetype": "text/x-python",
   "name": "python",
   "nbconvert_exporter": "python",
   "pygments_lexer": "ipython3",
   "version": "3.7.4"
  }
 },
 "nbformat": 4,
 "nbformat_minor": 2
}
