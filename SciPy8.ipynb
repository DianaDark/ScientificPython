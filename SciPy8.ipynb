{
 "cells": [
  {
   "cell_type": "code",
   "execution_count": 1,
   "metadata": {},
   "outputs": [
    {
     "name": "stdout",
     "output_type": "stream",
     "text": [
      "[0.39401019 0.32852986 0.0172511  0.30800315 0.90651234 0.20439862\n",
      " 0.44341585 0.55075452 0.18112312 0.91554754 0.98101167 0.64308639\n",
      " 0.31593559 0.8683426  0.97063085 0.961569   0.84791276 0.49899685\n",
      " 0.85656359 0.88675294 0.85504463 0.76394581 0.53828616 0.46119448\n",
      " 0.46824378 0.39615812 0.61424874 0.78880729 0.16457306 0.85307765]\n",
      "mean\n",
      " 0.5994642754172934\n"
     ]
    }
   ],
   "source": [
    "import numpy as np\n",
    "dv=np.random.random(30)\n",
    "print(dv)\n",
    "mv=dv.mean()\n",
    "print('mean\\n',mv)"
   ]
  },
  {
   "cell_type": "code",
   "execution_count": null,
   "metadata": {},
   "outputs": [],
   "source": []
  }
 ],
 "metadata": {
  "kernelspec": {
   "display_name": "Python 3",
   "language": "python",
   "name": "python3"
  },
  "language_info": {
   "codemirror_mode": {
    "name": "ipython",
    "version": 3
   },
   "file_extension": ".py",
   "mimetype": "text/x-python",
   "name": "python",
   "nbconvert_exporter": "python",
   "pygments_lexer": "ipython3",
   "version": "3.7.4"
  }
 },
 "nbformat": 4,
 "nbformat_minor": 2
}
